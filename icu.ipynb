{
  "nbformat": 4,
  "nbformat_minor": 0,
  "metadata": {
    "colab": {
      "name": "icu (1).ipynb의 사본",
      "private_outputs": true,
      "provenance": [],
      "collapsed_sections": [],
      "include_colab_link": true
    },
    "kernelspec": {
      "name": "python3",
      "display_name": "Python 3"
    },
    "language_info": {
      "name": "python"
    },
    "accelerator": "GPU"
  },
  "cells": [
    {
      "cell_type": "markdown",
      "metadata": {
        "id": "view-in-github",
        "colab_type": "text"
      },
      "source": [
        "<a href=\"https://colab.research.google.com/github/kahyunp/intern2021/blob/main/icu.ipynb\" target=\"_parent\"><img src=\"https://colab.research.google.com/assets/colab-badge.svg\" alt=\"Open In Colab\"/></a>"
      ]
    },
    {
      "cell_type": "markdown",
      "metadata": {
        "id": "CLLNWvUgeR65"
      },
      "source": [
        ""
      ]
    },
    {
      "cell_type": "code",
      "metadata": {
        "id": "sqlm2vTIKHmJ"
      },
      "source": [
        "from google.colab import drive\n",
        "drive.mount('/content/drive')"
      ],
      "execution_count": null,
      "outputs": []
    },
    {
      "cell_type": "code",
      "metadata": {
        "id": "AzVkbG_HkHkh"
      },
      "source": [
        "drive.mount(\"/content/drive\", force_remount=True)"
      ],
      "execution_count": null,
      "outputs": []
    },
    {
      "cell_type": "code",
      "metadata": {
        "id": "wayLRtTncQBS"
      },
      "source": [
        "# cd /content/drive/Shareddrives/multimodal_timeseries"
      ],
      "execution_count": null,
      "outputs": []
    },
    {
      "cell_type": "code",
      "metadata": {
        "id": "tUf6Ca-2SZ_5"
      },
      "source": [
        "import tensorflow as tf \n",
        "print(tf.__version__)\n"
      ],
      "execution_count": null,
      "outputs": []
    },
    {
      "cell_type": "code",
      "metadata": {
        "id": "MU9n0JRdby1C"
      },
      "source": [
        "import tensorflow as tf"
      ],
      "execution_count": null,
      "outputs": []
    },
    {
      "cell_type": "code",
      "metadata": {
        "id": "YlSyZT4ORNPg"
      },
      "source": [
        "!pip uninstall pandas\n",
        "!pip install pandas==0.23.4 \n",
        "\n",
        "#downgrad pandas due to overflow exception\n",
        "\n",
        "\n",
        "!pip install Keras==2.1.2\n",
        "!pip install tensorflow==1.14.0\n",
        "!pip3 install pickle5\n",
        "!pip install tqdm\n"
      ],
      "execution_count": null,
      "outputs": []
    },
    {
      "cell_type": "code",
      "metadata": {
        "id": "qMraqnuzKkgs"
      },
      "source": [
        "%run /content/drive/Shareddrives/multimodal_timeseries/ClinicalNotesICU/models/ihm_model_3.py --load_model 1 --log_file ihm.log --number_epoch 10 --mode test"
      ],
      "execution_count": null,
      "outputs": []
    },
    {
      "cell_type": "markdown",
      "metadata": {
        "id": "rd4xITHQHiuF"
      },
      "source": [
        "y"
      ]
    },
    {
      "cell_type": "code",
      "metadata": {
        "id": "c3x1Wl9jCsQt"
      },
      "source": [
        "# !wget https://ftp.ncbi.nlm.nih.gov/pub/lu/Suppl/BioSentVec/BioWordVec_PubMed_MIMICIII_d200.vec.bin"
      ],
      "execution_count": null,
      "outputs": []
    },
    {
      "cell_type": "code",
      "metadata": {
        "id": "GPzlZRSYLHGo"
      },
      "source": [
        "%cd /content/drive/Shareddrives/multimodal_timeseries/ClinicalNotesICU/scripts"
      ],
      "execution_count": null,
      "outputs": []
    },
    {
      "cell_type": "code",
      "metadata": {
        "id": "ZzzC7CM_M9uF"
      },
      "source": [
        "with open('/content/drive/Shareddrives/multimodal_timeseries/ClinicalNotesICU/scripts/test_data.pickle','wb')as fw:\n",
        " #test_text=pickle.load(fw)\n",
        "    pickle.dump(data,fw)"
      ],
      "execution_count": null,
      "outputs": []
    },
    {
      "cell_type": "code",
      "metadata": {
        "id": "4neD9z6JLLwp"
      },
      "source": [
        "\n",
        "import pickle5 as pickle\n",
        "%run \"../models/ihm_model\" --load_model 1 --mode train --log_file ihm.log --number_epoch 1\n",
        "print(\"DONE!\")"
      ],
      "execution_count": null,
      "outputs": []
    },
    {
      "cell_type": "code",
      "metadata": {
        "id": "EoeMTfLG--8t"
      },
      "source": [
        "%run \"../models/ihm_model_2\" --load_model 1 --mode train --log_file ihm.log --number_epoch 1\n",
        "print(\"DONE!\")"
      ],
      "execution_count": null,
      "outputs": []
    },
    {
      "cell_type": "code",
      "metadata": {
        "id": "u3pJ2sA1iVhu"
      },
      "source": [
        "with open('test_raw.pickle','wb') as fw:\n",
        "    pickle.dump(test_raw, fw)"
      ],
      "execution_count": null,
      "outputs": []
    },
    {
      "cell_type": "code",
      "metadata": {
        "id": "JUZrXEKsjPHp"
      },
      "source": [
        "with open('train_raw.pickle', 'rb') as fr:\n",
        "    user_loaded = pickle.load(fr)\n",
        "print(train_raw)"
      ],
      "execution_count": null,
      "outputs": []
    },
    {
      "cell_type": "markdown",
      "metadata": {
        "id": "gm2gRhNkLxWy"
      },
      "source": [
        "# 새 섹션"
      ]
    },
    {
      "cell_type": "code",
      "metadata": {
        "id": "JI-TPzqLNaxE"
      },
      "source": [
        "!pip install tqdm_notebook"
      ],
      "execution_count": null,
      "outputs": []
    },
    {
      "cell_type": "code",
      "metadata": {
        "id": "-zyGSytLplw0"
      },
      "source": [
        "%cd /content/drive/Shareddrives/multimodal_timeseries/ClinicalNotesICU/scripts"
      ],
      "execution_count": null,
      "outputs": []
    },
    {
      "cell_type": "code",
      "metadata": {
        "id": "M6wrEFjEGGu8"
      },
      "source": [
        "%run /content/drive/Shareddrives/multimodal_timeseries/ClinicalNotesICU/models/ihm_model_3.py --load_model 1 --log_file ihm.log --number_epoch 10 --mode test"
      ],
      "execution_count": null,
      "outputs": []
    },
    {
      "cell_type": "code",
      "metadata": {
        "id": "I8GKd_VGyRm5"
      },
      "source": [
        "from tensorflow.python.client import device_lib\n",
        "device_lib.list_local_devices()"
      ],
      "execution_count": null,
      "outputs": []
    },
    {
      "cell_type": "code",
      "metadata": {
        "id": "OyzRLpFVGKRj"
      },
      "source": [
        "# with open('train_data.pickle','wb') as f:\n",
        "#     pickle.dump(data,f)"
      ],
      "execution_count": null,
      "outputs": []
    },
    {
      "cell_type": "markdown",
      "metadata": {
        "id": "zhU5uCQiyRF2"
      },
      "source": [
        ""
      ]
    },
    {
      "cell_type": "code",
      "metadata": {
        "id": "oQ6-7XHK6SkN"
      },
      "source": [
        "# with open('train_raw.pickle','wb') as f:\n",
        "#     pickle.dump(train_raw,f)"
      ],
      "execution_count": null,
      "outputs": []
    },
    {
      "cell_type": "code",
      "metadata": {
        "id": "1FDZjwQ36uqO"
      },
      "source": [
        "# with open('train_text.pickle','wb')as f:\n",
        "#     pickle.dump(train_text,f)"
      ],
      "execution_count": null,
      "outputs": []
    },
    {
      "cell_type": "code",
      "metadata": {
        "id": "i66tgB8M5HRR"
      },
      "source": [
        "# with open('train_data.pickle','rb') as f:\n",
        "#     fw=pickle.load(f)\n",
        "# print(fw)"
      ],
      "execution_count": null,
      "outputs": []
    },
    {
      "cell_type": "code",
      "metadata": {
        "id": "sUoXDnLHpuvz"
      },
      "source": [
        "# with open('/content/drive/MyDrive/eval_raw.pickle','wb') as fw:\n",
        "#     pickle.dump(eval_raw, fw)"
      ],
      "execution_count": null,
      "outputs": []
    },
    {
      "cell_type": "code",
      "metadata": {
        "id": "kB-B1LXDp0N0"
      },
      "source": [
        "# with open('/content/drive/MyDrive/eval_data','wb') as f:\n",
        "#     f.write(eval)"
      ],
      "execution_count": null,
      "outputs": []
    },
    {
      "cell_type": "code",
      "metadata": {
        "id": "NoClH37zpawh"
      },
      "source": [
        "gpu_config = tf.ConfigProto(device_count={'GPU': 1})"
      ],
      "execution_count": null,
      "outputs": []
    },
    {
      "cell_type": "code",
      "metadata": {
        "id": "W7CKx7v-psJK"
      },
      "source": [
        "with tf.device('/gpu:0'):\n",
        "    sess = tf.Session(config=tf.ConfigProto(log_device_placement=True)\n",
        "print(sess)"
      ],
      "execution_count": null,
      "outputs": []
    },
    {
      "cell_type": "code",
      "metadata": {
        "id": "tmZqU-kWqCWu"
      },
      "source": [
        "import tensorflow as tf\n",
        "tf.test.gpu_device_name()"
      ],
      "execution_count": null,
      "outputs": []
    },
    {
      "cell_type": "code",
      "metadata": {
        "id": "chK7Y6SzqZKW"
      },
      "source": [
        "!nvidia-smi"
      ],
      "execution_count": null,
      "outputs": []
    },
    {
      "cell_type": "markdown",
      "metadata": {
        "id": "RCA8Vr7K-F3l"
      },
      "source": [
        ""
      ]
    }
  ]
}